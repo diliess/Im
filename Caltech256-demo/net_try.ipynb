{
 "cells": [
  {
   "cell_type": "code",
   "execution_count": null,
   "metadata": {},
   "outputs": [],
   "source": [
    "import torch.nn as nn\n",
    "import torch\n",
    "import torchvision.models as models\n",
    "import os\n",
    "from PIL import Image\n",
    "import torch\n",
    "from torch.utils.data import Dataset\n",
    "import torchvision.transforms as transforms\n",
    "import random\n",
    "import matplotlib.pyplot as plt\n",
    "import numpy as np\n",
    "from dataset import Caltech256Dataset\n",
    "from torch.utils.data import DataLoader\n",
    "import torch.optim as optim\n",
    "import tqdm"
   ]
  },
  {
   "cell_type": "code",
   "execution_count": null,
   "metadata": {},
   "outputs": [],
   "source": [
    "#net\n",
    "vgg16 = models.vgg16()\n",
    "# 从.pth文件中加载预训练参数\n",
    "vgg16.load_state_dict(torch.load(r'model/hub/checkpoints/vgg16-397923af.pth'))\n",
    "#改写网络结构\n",
    "vgg16.classifier._modules['6'] = nn.Linear(4096,257)\n",
    "\n",
    "#数据预处理\n",
    "data_transform = transforms.Compose([\n",
    "    transforms.Resize((224, 224)),\n",
    "    transforms.ToTensor(),\n",
    "    transforms.Normalize((0.485, 0.456, 0.406), (0.229, 0.224, 0.225))\n",
    "])\n",
    "train_dataset = Caltech256Dataset(root_dir='Caltech256',train=False,transforms=data_transform)\n",
    "train_dataloader = DataLoader(train_dataset, batch_size=32, shuffle=True)\n"
   ]
  },
  {
   "cell_type": "code",
   "execution_count": null,
   "metadata": {},
   "outputs": [],
   "source": [
    "#gpu\n",
    "device = torch.device(\"cuda\" if torch.cuda.is_available() else \"cpu\")\n",
    "#损失函数\n",
    "criterion = nn.CrossEntropyLoss()\n",
    "#搬运数据\n",
    "vgg16.to(device)\n",
    "#优化器\n",
    "optimizer = optim.SGD(vgg16.parameters(), lr=0.001, momentum=0.9)\n",
    "#学习率\n",
    "scheduler = optim.lr_scheduler.StepLR(optimizer, step_size=7, gamma=0.1)"
   ]
  },
  {
   "cell_type": "code",
   "execution_count": null,
   "metadata": {},
   "outputs": [],
   "source": [
    "log_folder = 'log.txt' # 指定 log 文件夹路径\n",
    "\n",
    "# 定义一个函数来测试模型的准确率\n",
    "def test_accuracy(model, test_dataloader, device=torch.device('cpu')):\n",
    "    correct = 0\n",
    "    total = 0\n",
    "    with torch.no_grad():  # 停用梯度计算\n",
    "        for inputs, labels in test_dataloader:\n",
    "            inputs, labels = inputs.to(device), labels.to(device)\n",
    "            outputs = model(inputs)\n",
    "            _, predicted = torch.max(outputs.data, 1)\n",
    "            total += labels.size(0)\n",
    "            correct += (predicted == labels).sum().item()\n",
    "    accuracy = 100 * correct / total\n",
    "    return accuracy\n",
    "\n",
    "# 记录每个batch的loss到log中\n",
    "def log_loss(log_folder, epoch, batch_idx, loss):\n",
    "    with open(log_folder, 'a') as f:\n",
    "        f.write(f\"Epoch {epoch+1}, Batch {batch_idx+1}, Loss: {loss:.4f}\\n\")\n",
    "\n",
    "num_epochs = 10\n",
    "\n",
    "for epoch in range(num_epochs):\n",
    "    running_loss = 0.0\n",
    "    for batch_idx, (inputs, labels) in enumerate(tqdm.tqdm(train_dataloader)):\n",
    "        inputs, labels = inputs.to(device), labels.to(device)\n",
    "        optimizer.zero_grad()\n",
    "        outputs = vgg16(inputs)\n",
    "        loss = criterion(outputs, labels)\n",
    "        loss.backward()\n",
    "        optimizer.step()\n",
    "\n",
    "        # 记录每个 batch 的 loss\n",
    "        log_loss(log_folder, epoch, batch_idx, loss)\n",
    "        \n",
    "        running_loss += loss.item()\n",
    "\n",
    "    epoch_loss = running_loss / len(train_dataloader)\n",
    "    print(f\"Epoch {epoch+1} Loss: {epoch_loss:.4f}\")\n",
    "\n",
    "    # 测试模型准确率\n",
    "    accuracy = test_accuracy(vgg16, train_dataloader, device)\n",
    "    print(f\"Epoch {epoch+1} accuracy on train set: {accuracy:.2f}%\")\n",
    "\n",
    "    scheduler.step()\n",
    "\n",
    "print(\"Training finished.\")"
   ]
  },
  {
   "cell_type": "code",
   "execution_count": null,
   "metadata": {},
   "outputs": [],
   "source": []
  },
  {
   "cell_type": "code",
   "execution_count": null,
   "metadata": {},
   "outputs": [],
   "source": []
  }
 ],
 "metadata": {
  "kernelspec": {
   "display_name": "pytorch",
   "language": "python",
   "name": "python3"
  },
  "language_info": {
   "codemirror_mode": {
    "name": "ipython",
    "version": 3
   },
   "file_extension": ".py",
   "mimetype": "text/x-python",
   "name": "python",
   "nbconvert_exporter": "python",
   "pygments_lexer": "ipython3",
   "version": "3.9.12"
  }
 },
 "nbformat": 4,
 "nbformat_minor": 2
}
